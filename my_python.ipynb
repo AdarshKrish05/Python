{
  "cells": [
    {
      "cell_type": "markdown",
      "metadata": {
        "id": "view-in-github",
        "colab_type": "text"
      },
      "source": [
        "<a href=\"https://colab.research.google.com/github/AdarshKrish05/Python/blob/main/my_python.ipynb\" target=\"_parent\"><img src=\"https://colab.research.google.com/assets/colab-badge.svg\" alt=\"Open In Colab\"/></a>"
      ]
    },
    {
      "cell_type": "markdown",
      "source": [],
      "metadata": {
        "id": "ISWA7ZQNXQv7"
      }
    },
    {
      "cell_type": "code",
      "source": [
        "x = int(input())\n",
        "y = int(input())\n",
        "ans = x-y\n",
        "print(ans)"
      ],
      "metadata": {
        "colab": {
          "base_uri": "https://localhost:8080/"
        },
        "id": "xXcjbL3lXuZD",
        "outputId": "25782f8a-9862-4458-c196-6097d5fb8e54"
      },
      "execution_count": 4,
      "outputs": [
        {
          "output_type": "stream",
          "name": "stdout",
          "text": [
            "5\n",
            "3\n",
            "2\n"
          ]
        }
      ]
    },
    {
      "cell_type": "code",
      "source": [],
      "metadata": {
        "id": "Odd4A2hYbi-F"
      },
      "execution_count": null,
      "outputs": []
    },
    {
      "cell_type": "code",
      "execution_count": null,
      "metadata": {
        "colab": {
          "background_save": true
        },
        "id": "G9koQHV2MrQk",
        "outputId": "61e72117-b0f4-45a6-bec1-721ed41cff19"
      },
      "outputs": [
        {
          "name": "stdout",
          "output_type": "stream",
          "text": [
            "hi\n"
          ]
        }
      ],
      "source": [
        "a = int(input())\n",
        "b = int(input())\n",
        "if a == b:\n",
        " print('hi')\n",
        "elif a>b:\n",
        "  print('a is greater than b')\n",
        "else:\n",
        "  a<b\n",
        "  print('a is less than b')\n"
      ]
    },
    {
      "cell_type": "code",
      "execution_count": null,
      "metadata": {
        "id": "Y48IlBrjNoYo",
        "colab": {
          "base_uri": "https://localhost:8080/"
        },
        "outputId": "40fcfc19-840b-48de-9f01-8bc3dba9339c"
      },
      "outputs": [
        {
          "output_type": "stream",
          "name": "stdout",
          "text": [
            "Enter a year: 24\n",
            "24 is a leap year\n"
          ]
        }
      ],
      "source": [
        "\n",
        "year = int(input(\"Enter a year: \"))\n",
        "if (year % 4 ==0) :\n",
        "    print(\"{0} is a leap year\".format(year))\n",
        "else:\n",
        "    print(\"{0} is not a leap year\".format(year))"
      ]
    },
    {
      "cell_type": "code",
      "source": [
        "num = int(input('Enter The Number'))\n",
        "for i in range(1,21):\n",
        "  print(num, 'x', i, '=',num*i)\n"
      ],
      "metadata": {
        "colab": {
          "base_uri": "https://localhost:8080/"
        },
        "id": "zL2R1Q13Xb29",
        "outputId": "3f8f23da-7d14-4be8-b101-b19aeaafd45a"
      },
      "execution_count": null,
      "outputs": [
        {
          "output_type": "stream",
          "name": "stdout",
          "text": [
            "Enter The Number19\n",
            "19 x 1 = 19\n",
            "19 x 2 = 38\n",
            "19 x 3 = 57\n",
            "19 x 4 = 76\n",
            "19 x 5 = 95\n",
            "19 x 6 = 114\n",
            "19 x 7 = 133\n",
            "19 x 8 = 152\n",
            "19 x 9 = 171\n",
            "19 x 10 = 190\n",
            "19 x 11 = 209\n",
            "19 x 12 = 228\n",
            "19 x 13 = 247\n",
            "19 x 14 = 266\n",
            "19 x 15 = 285\n",
            "19 x 16 = 304\n",
            "19 x 17 = 323\n",
            "19 x 18 = 342\n",
            "19 x 19 = 361\n",
            "19 x 20 = 380\n"
          ]
        }
      ]
    }
  ],
  "metadata": {
    "colab": {
      "provenance": [],
      "authorship_tag": "ABX9TyPMxmUXGxfFCm2b+DpLpDz9",
      "include_colab_link": true
    },
    "kernelspec": {
      "display_name": "Python 3",
      "name": "python3"
    },
    "language_info": {
      "name": "python"
    }
  },
  "nbformat": 4,
  "nbformat_minor": 0
}